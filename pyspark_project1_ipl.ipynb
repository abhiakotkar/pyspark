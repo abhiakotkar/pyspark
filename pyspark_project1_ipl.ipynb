{
 "cells": [
  {
   "cell_type": "code",
   "execution_count": 24,
   "id": "1926e1fd",
   "metadata": {},
   "outputs": [],
   "source": [
    "import pandas as pd"
   ]
  },
  {
   "cell_type": "code",
   "execution_count": 54,
   "id": "e9fdce75",
   "metadata": {},
   "outputs": [],
   "source": [
    "from pyspark.sql import SparkSession\n",
    "from pyspark.sql import *\n",
    "from pyspark.sql.types import StructType, StructField, StringType,FloatType, IntegerType\n"
   ]
  },
  {
   "cell_type": "code",
   "execution_count": 26,
   "id": "ea0f20eb",
   "metadata": {},
   "outputs": [],
   "source": [
    "#starting spark sessions\n",
    "spark=SparkSession.builder.getOrCreate()"
   ]
  },
  {
   "cell_type": "code",
   "execution_count": 45,
   "id": "caa432a4",
   "metadata": {},
   "outputs": [],
   "source": [
    "#importingg data\n",
    "df=spark.read.option(\"header\",True).option(\"inferSchema\",True).csv('ipl_2022_dataset.csv')"
   ]
  },
  {
   "cell_type": "code",
   "execution_count": 63,
   "id": "6537fca4",
   "metadata": {},
   "outputs": [
    {
     "name": "stdout",
     "output_type": "stream",
     "text": [
      "+---+-------------------+----------+------------+---------------+---------------+----------+--------------+\n",
      "|_c0|             Player|Base Price|        TYPE|COST IN ₹ (CR.)|Cost IN $ (000)|2021 Squad|          Team|\n",
      "+---+-------------------+----------+------------+---------------+---------------+----------+--------------+\n",
      "|  0|        Rashid Khan|Draft Pick|      BOWLER|           15.0|         1950.0|       SRH|Gujarat Titans|\n",
      "|  1|      Hardik Pandya|Draft Pick| ALL-ROUNDER|           15.0|         1950.0|        MI|Gujarat Titans|\n",
      "|  2|    Lockie Ferguson|      2 Cr|      BOWLER|           10.0|         1300.0|       KKR|Gujarat Titans|\n",
      "|  3|      Rahul Tewatia|   40 Lakh| ALL-ROUNDER|            9.0|         1170.0|        RR|Gujarat Titans|\n",
      "|  4|       Shubman Gill|Draft Pick|      BATTER|            8.0|         1040.0|       KKR|Gujarat Titans|\n",
      "|  5|     Mohammad Shami|      2 Cr|      BOWLER|           6.25|          812.5|      PBKS|Gujarat Titans|\n",
      "|  6|         Yash Dayal|   20 Lakh|      BOWLER|            3.2|          416.0|      NULL|Gujarat Titans|\n",
      "|  7|       David Miller|      1 Cr|      BATTER|            3.0|          390.0|        RR|Gujarat Titans|\n",
      "|  8|     R. Sai Kishore|   20 Lakh|      BOWLER|            3.0|          390.0|       CSK|Gujarat Titans|\n",
      "|  9|Abhinav Sadarangani|   20 Lakh|      BATTER|            2.6|          338.0|      NULL|Gujarat Titans|\n",
      "| 10|       Matthew Wade|      2 Cr|WICKETKEEPER|            2.4|          312.0|      NULL|Gujarat Titans|\n",
      "| 11|     Alzarri Joseph|   75 Lakh|      BOWLER|            2.4|          312.0|      NULL|Gujarat Titans|\n",
      "| 12|          Jason Roy|      2 Cr|      BATTER|            2.0|          260.0|       SRH|Gujarat Titans|\n",
      "| 13|    Wriddhiman Saha|      1 Cr|WICKETKEEPER|            1.9|          247.0|       SRH|Gujarat Titans|\n",
      "| 14|       Jayant Yadav|      1 Cr| ALL-ROUNDER|            1.7|          221.0|        MI|Gujarat Titans|\n",
      "| 15|      Vijay Shankar|   50 Lakh| ALL-ROUNDER|            1.4|          182.0|       SRH|Gujarat Titans|\n",
      "| 16|     Dominic Drakes|   75 Lakh| ALL-ROUNDER|            1.1|          143.0|       CSK|Gujarat Titans|\n",
      "| 17|        Varun Aaron|   50 Lakh|      BOWLER|            0.5|           65.0|      NULL|Gujarat Titans|\n",
      "| 18|    Gurkeerat Singh|   50 Lakh| ALL-ROUNDER|            0.5|           65.0|       KKR|Gujarat Titans|\n",
      "| 19|         Noor Ahmad|   30 Lakh|      BOWLER|            0.3|           39.0|      NULL|Gujarat Titans|\n",
      "+---+-------------------+----------+------------+---------------+---------------+----------+--------------+\n",
      "only showing top 20 rows\n",
      "\n"
     ]
    }
   ],
   "source": [
    "df.show()"
   ]
  },
  {
   "cell_type": "code",
   "execution_count": 47,
   "id": "cf5b9571",
   "metadata": {},
   "outputs": [
    {
     "name": "stdout",
     "output_type": "stream",
     "text": [
      "root\n",
      " |-- _c0: integer (nullable = true)\n",
      " |-- Player: string (nullable = true)\n",
      " |-- Base Price: string (nullable = true)\n",
      " |-- TYPE: string (nullable = true)\n",
      " |-- COST IN ₹ (CR.): double (nullable = true)\n",
      " |-- Cost IN $ (000): double (nullable = true)\n",
      " |-- 2021 Squad: string (nullable = true)\n",
      " |-- Team: string (nullable = true)\n",
      "\n"
     ]
    }
   ],
   "source": [
    "df.printSchema()"
   ]
  },
  {
   "cell_type": "code",
   "execution_count": 55,
   "id": "f6711780",
   "metadata": {},
   "outputs": [],
   "source": [
    "schema=StructType()\\\n",
    ".add('_c0',IntegerType(),True)\\\n",
    ".add('Player',StringType(),True)\\\n",
    ".add('Base Price',StringType(),True)\\\n",
    ".add('TYPE',StringType(),True)\\\n",
    ".add('COST IN ₹ (CR.)',FloatType(),True)\\\n",
    ".add('Cost IN $ (000)',FloatType(),True)\\\n",
    ".add('2021 Squad',StringType(),True)\\\n",
    ".add('Team',StringType(),True)\n"
   ]
  },
  {
   "cell_type": "code",
   "execution_count": 60,
   "id": "0805b74f",
   "metadata": {},
   "outputs": [
    {
     "name": "stdout",
     "output_type": "stream",
     "text": [
      "root\n",
      " |-- _c0: integer (nullable = true)\n",
      " |-- Player: string (nullable = true)\n",
      " |-- Base Price: string (nullable = true)\n",
      " |-- TYPE: string (nullable = true)\n",
      " |-- COST IN ₹ (CR.): double (nullable = true)\n",
      " |-- Cost IN $ (000): double (nullable = true)\n",
      " |-- 2021 Squad: string (nullable = true)\n",
      " |-- Team: string (nullable = true)\n",
      "\n"
     ]
    }
   ],
   "source": [
    "df.printSchema()"
   ]
  },
  {
   "cell_type": "markdown",
   "id": "3ef9ab6b",
   "metadata": {},
   "source": [
    "# data  Exploreation"
   ]
  },
  {
   "cell_type": "code",
   "execution_count": 56,
   "id": "b8a87669",
   "metadata": {},
   "outputs": [
    {
     "data": {
      "text/plain": [
       "633"
      ]
     },
     "execution_count": 56,
     "metadata": {},
     "output_type": "execute_result"
    }
   ],
   "source": [
    "df.count()"
   ]
  },
  {
   "cell_type": "code",
   "execution_count": 57,
   "id": "a17d439b",
   "metadata": {},
   "outputs": [
    {
     "data": {
      "text/plain": [
       "8"
      ]
     },
     "execution_count": 57,
     "metadata": {},
     "output_type": "execute_result"
    }
   ],
   "source": [
    "len(df.columns)"
   ]
  },
  {
   "cell_type": "code",
   "execution_count": 61,
   "id": "3414b04e",
   "metadata": {},
   "outputs": [
    {
     "data": {
      "text/plain": [
       "[Row(Base Price='20 Lakh'),\n",
       " Row(Base Price='2 Cr'),\n",
       " Row(Base Price='Draft Pick'),\n",
       " Row(Base Price='40 Lakh'),\n",
       " Row(Base Price='30 Lakh'),\n",
       " Row(Base Price='1 Cr'),\n",
       " Row(Base Price='50 Lakh'),\n",
       " Row(Base Price='1.5 Cr'),\n",
       " Row(Base Price='75 Lakh'),\n",
       " Row(Base Price='Retained')]"
      ]
     },
     "execution_count": 61,
     "metadata": {},
     "output_type": "execute_result"
    }
   ],
   "source": [
    "#unique value in the base price columns\n",
    "df.select('Base Price').distinct().collect()"
   ]
  },
  {
   "cell_type": "code",
   "execution_count": 62,
   "id": "72c3eb31",
   "metadata": {},
   "outputs": [
    {
     "name": "stdout",
     "output_type": "stream",
     "text": [
      "+----------+-----+\n",
      "|Base Price|count|\n",
      "+----------+-----+\n",
      "|   20 Lakh|  344|\n",
      "|      2 Cr|   48|\n",
      "|Draft Pick|    6|\n",
      "|   40 Lakh|   16|\n",
      "|   30 Lakh|    9|\n",
      "|      1 Cr|   33|\n",
      "|   50 Lakh|  104|\n",
      "|    1.5 Cr|   20|\n",
      "|   75 Lakh|   26|\n",
      "|  Retained|   27|\n",
      "+----------+-----+\n",
      "\n"
     ]
    }
   ],
   "source": [
    "#distribution of values inside column 'base price'\n",
    "df.groupBy('Base Price').count().show()"
   ]
  },
  {
   "cell_type": "code",
   "execution_count": 67,
   "id": "55ddfb53",
   "metadata": {},
   "outputs": [
    {
     "data": {
      "text/plain": [
       "[Row(TYPE='WICKETKEEPER'),\n",
       " Row(TYPE='BOWLER'),\n",
       " Row(TYPE='ALL-ROUNDER'),\n",
       " Row(TYPE='BATTER')]"
      ]
     },
     "execution_count": 67,
     "metadata": {},
     "output_type": "execute_result"
    }
   ],
   "source": [
    "#unique value for type column\n",
    "df.select('TYPE').distinct().collect()"
   ]
  },
  {
   "cell_type": "code",
   "execution_count": 71,
   "id": "4e681d75",
   "metadata": {},
   "outputs": [
    {
     "name": "stdout",
     "output_type": "stream",
     "text": [
      "+------------+-----+\n",
      "|        TYPE|count|\n",
      "+------------+-----+\n",
      "|WICKETKEEPER|   64|\n",
      "|      BOWLER|  215|\n",
      "| ALL-ROUNDER|  242|\n",
      "|      BATTER|  112|\n",
      "+------------+-----+\n",
      "\n"
     ]
    }
   ],
   "source": [
    "#distribution according to values\n",
    "df.groupBy(\"TYPE\").count().show()"
   ]
  },
  {
   "cell_type": "markdown",
   "id": "811756dd",
   "metadata": {},
   "source": [
    "# To be Analyze\n",
    "1.Top 3 batsman who got paid the most?\\\n",
    "2.Top 5 bowlers who got paid the most?\\\n",
    "3.Highest paid all-rounders\\\n",
    "4.Average pay for Batsman, Bowler, All-Rounder, Wicket Keeper?\\\n",
    "5.List of Retained players with Salary?"
   ]
  },
  {
   "cell_type": "code",
   "execution_count": 73,
   "id": "90990a39",
   "metadata": {},
   "outputs": [
    {
     "name": "stdout",
     "output_type": "stream",
     "text": [
      "root\n",
      " |-- _c0: integer (nullable = true)\n",
      " |-- Player: string (nullable = true)\n",
      " |-- Base Price: string (nullable = true)\n",
      " |-- TYPE: string (nullable = true)\n",
      " |-- COST IN ₹ (CR.): double (nullable = true)\n",
      " |-- Cost IN $ (000): double (nullable = true)\n",
      " |-- 2021 Squad: string (nullable = true)\n",
      " |-- Team: string (nullable = true)\n",
      "\n"
     ]
    }
   ],
   "source": [
    "df.printSchema()"
   ]
  },
  {
   "cell_type": "code",
   "execution_count": 75,
   "id": "dd2cd6d0",
   "metadata": {},
   "outputs": [],
   "source": [
    "#renaming the columnn.\n",
    "df2 = df.withColumnRenamed(\"Player\",\"player\")\\\n",
    "      .withColumnRenamed(\"Base Price\",\"base_price\")\\\n",
    "      .withColumnRenamed(\"Type\",\"type\") \\\n",
    "      .withColumnRenamed(\"COST IN ₹ (CR.)\",\"cost_inr\") \\\n",
    "      .withColumnRenamed(\"Cost IN $ (000)\",\"cost_usd\") \\\n",
    "      .withColumnRenamed(\"2021 Squad\",\"2021_team\") \\\n",
    "      .withColumnRenamed(\"Team\",\"2022_team\")"
   ]
  },
  {
   "cell_type": "code",
   "execution_count": 78,
   "id": "06825b53",
   "metadata": {},
   "outputs": [
    {
     "name": "stdout",
     "output_type": "stream",
     "text": [
      "+---+---------------+----------+-----------+--------+--------+---------+--------------+\n",
      "|_c0|         player|base_price|       type|cost_inr|cost_usd|2021_team|     2022_team|\n",
      "+---+---------------+----------+-----------+--------+--------+---------+--------------+\n",
      "|  0|    Rashid Khan|Draft Pick|     BOWLER|    15.0|  1950.0|      SRH|Gujarat Titans|\n",
      "|  1|  Hardik Pandya|Draft Pick|ALL-ROUNDER|    15.0|  1950.0|       MI|Gujarat Titans|\n",
      "|  2|Lockie Ferguson|      2 Cr|     BOWLER|    10.0|  1300.0|      KKR|Gujarat Titans|\n",
      "|  3|  Rahul Tewatia|   40 Lakh|ALL-ROUNDER|     9.0|  1170.0|       RR|Gujarat Titans|\n",
      "|  4|   Shubman Gill|Draft Pick|     BATTER|     8.0|  1040.0|      KKR|Gujarat Titans|\n",
      "+---+---------------+----------+-----------+--------+--------+---------+--------------+\n",
      "only showing top 5 rows\n",
      "\n"
     ]
    }
   ],
   "source": [
    "df2.show(5)"
   ]
  },
  {
   "cell_type": "code",
   "execution_count": 81,
   "id": "9ab291a4",
   "metadata": {},
   "outputs": [],
   "source": [
    "#droping usd column\n",
    "df3=df2.drop(\"cost_usd\")"
   ]
  },
  {
   "cell_type": "code",
   "execution_count": 114,
   "id": "b803abbe",
   "metadata": {},
   "outputs": [
    {
     "name": "stdout",
     "output_type": "stream",
     "text": [
      "+---+-------------+----------+-----------+--------+---------+--------------+\n",
      "|_c0|       player|base_price|       type|cost_inr|2021_team|     2022_team|\n",
      "+---+-------------+----------+-----------+--------+---------+--------------+\n",
      "|  0|  Rashid Khan|Draft Pick|     BOWLER|    15.0|      SRH|Gujarat Titans|\n",
      "|  1|Hardik Pandya|Draft Pick|ALL-ROUNDER|    15.0|       MI|Gujarat Titans|\n",
      "+---+-------------+----------+-----------+--------+---------+--------------+\n",
      "only showing top 2 rows\n",
      "\n"
     ]
    }
   ],
   "source": [
    "df3.show(2)"
   ]
  },
  {
   "cell_type": "code",
   "execution_count": 83,
   "id": "6cc4e7b8",
   "metadata": {},
   "outputs": [
    {
     "name": "stdout",
     "output_type": "stream",
     "text": [
      "+---------------+--------+\n",
      "|         player|cost_inr|\n",
      "+---------------+--------+\n",
      "|   Rohit Sharma|    16.0|\n",
      "|    Virat Kohli|    15.0|\n",
      "|Kane Williamson|    14.0|\n",
      "+---------------+--------+\n",
      "only showing top 3 rows\n",
      "\n"
     ]
    }
   ],
   "source": [
    "#1.Top 3 batsman who got paid the most?\n",
    "df3.select('player','cost_inr').where(df3.type=='BATTER').orderBy('cost_inr', ascending=False).show(3)"
   ]
  },
  {
   "cell_type": "code",
   "execution_count": 122,
   "id": "1a9070f3",
   "metadata": {},
   "outputs": [],
   "source": [
    "df3.createOrReplaceTempView('ipl')"
   ]
  },
  {
   "cell_type": "code",
   "execution_count": 123,
   "id": "a0114980",
   "metadata": {},
   "outputs": [
    {
     "name": "stdout",
     "output_type": "stream",
     "text": [
      "+---------------+--------+\n",
      "|         player|cost_inr|\n",
      "+---------------+--------+\n",
      "|   Rohit Sharma|    16.0|\n",
      "|    Virat Kohli|    15.0|\n",
      "|Kane Williamson|    14.0|\n",
      "+---------------+--------+\n",
      "\n"
     ]
    }
   ],
   "source": [
    "spark.sql(\"\"\"select player,cost_inr from ipl where type = 'BATTER' order by 2 desc limit 3\"\"\").show()"
   ]
  },
  {
   "cell_type": "code",
   "execution_count": 100,
   "id": "3270484f",
   "metadata": {},
   "outputs": [
    {
     "name": "stdout",
     "output_type": "stream",
     "text": [
      "+---------------+--------+\n",
      "|         player|cost_inr|\n",
      "+---------------+--------+\n",
      "|    Rashid Khan|    15.0|\n",
      "|  Deepak Chahar|    14.0|\n",
      "| Jasprit Bumrah|    12.0|\n",
      "| Shardul Thakur|   10.75|\n",
      "|Lockie Ferguson|    10.0|\n",
      "+---------------+--------+\n",
      "only showing top 5 rows\n",
      "\n"
     ]
    }
   ],
   "source": [
    "#2.Top 5 bowlers who got paid the most?\\\n",
    "df3.select('player','cost_inr').where(df3.type=='BOWLER').orderBy('cost_inr',ascending=False).show(5)"
   ]
  },
  {
   "cell_type": "code",
   "execution_count": 130,
   "id": "f973e0b3",
   "metadata": {},
   "outputs": [
    {
     "name": "stdout",
     "output_type": "stream",
     "text": [
      "+--------------+--------+\n",
      "|        player|cost_inr|\n",
      "+--------------+--------+\n",
      "|   Rashid Khan|    15.0|\n",
      "| Deepak Chahar|    14.0|\n",
      "|Jasprit Bumrah|    12.0|\n",
      "|Shardul Thakur|   10.75|\n",
      "|    Avesh Khan|    10.0|\n",
      "+--------------+--------+\n",
      "\n"
     ]
    }
   ],
   "source": [
    "spark.sql(\"\"\"select player,cost_inr from ipl where type='BOWLER' order by 2 desc limit 5\"\"\").show()"
   ]
  },
  {
   "cell_type": "code",
   "execution_count": 103,
   "id": "09c0bd08",
   "metadata": {},
   "outputs": [
    {
     "name": "stdout",
     "output_type": "stream",
     "text": [
      "+---------------+--------+\n",
      "|         player|cost_inr|\n",
      "+---------------+--------+\n",
      "|Ravindra Jadeja|    16.0|\n",
      "+---------------+--------+\n",
      "only showing top 1 row\n",
      "\n"
     ]
    }
   ],
   "source": [
    "5#3.Highest paid all-rounders\\\n",
    "df3.select('player','cost_inr').where(df3.type=='ALL-ROUNDER').orderBy('cost_inr',ascending=False).show(1)"
   ]
  },
  {
   "cell_type": "code",
   "execution_count": 131,
   "id": "1d8bb70f",
   "metadata": {},
   "outputs": [
    {
     "name": "stdout",
     "output_type": "stream",
     "text": [
      "+---------------+--------+\n",
      "|         player|cost_inr|\n",
      "+---------------+--------+\n",
      "|Ravindra Jadeja|    16.0|\n",
      "+---------------+--------+\n",
      "\n"
     ]
    }
   ],
   "source": [
    "spark.sql(\"\"\"select player, cost_inr from ipl where type = 'ALL-ROUNDER' order by 2 desc limit 1\"\"\").show()"
   ]
  },
  {
   "cell_type": "code",
   "execution_count": 112,
   "id": "a9c64d74",
   "metadata": {},
   "outputs": [
    {
     "name": "stdout",
     "output_type": "stream",
     "text": [
      "+------------+-------------+\n",
      "|        Type|average_price|\n",
      "+------------+-------------+\n",
      "|WICKETKEEPER|         5.09|\n",
      "|      BOWLER|         3.07|\n",
      "| ALL-ROUNDER|         3.61|\n",
      "|      BATTER|         4.11|\n",
      "+------------+-------------+\n",
      "\n"
     ]
    }
   ],
   "source": [
    "#4.Average pay for Batsman, Bowler, All-Rounder, Wicket Keeper?\n",
    "from pyspark.sql import functions as F\n",
    "\n",
    "df3.groupBy('Type').agg(F.round(F.mean('cost_inr'),2).alias('average_price')).show()"
   ]
  },
  {
   "cell_type": "code",
   "execution_count": 139,
   "id": "69dbb0c5",
   "metadata": {},
   "outputs": [
    {
     "name": "stdout",
     "output_type": "stream",
     "text": [
      "+------------+---------+\n",
      "|        type|avg_price|\n",
      "+------------+---------+\n",
      "|WICKETKEEPER|     5.09|\n",
      "|      BATTER|     4.11|\n",
      "| ALL-ROUNDER|     3.61|\n",
      "|      BOWLER|     3.07|\n",
      "+------------+---------+\n",
      "\n"
     ]
    }
   ],
   "source": [
    "spark.sql(\"\"\"select type, round(avg(cost_inr),2) avg_price from ipl group by 1 order by 2 desc  \"\"\").show()"
   ]
  },
  {
   "cell_type": "code",
   "execution_count": 117,
   "id": "7edd8270",
   "metadata": {},
   "outputs": [
    {
     "name": "stdout",
     "output_type": "stream",
     "text": [
      "Object `Salary` not found.\n",
      "+-------------------+--------+\n",
      "|             player|cost_inr|\n",
      "+-------------------+--------+\n",
      "|    Ravindra Jadeja|    16.0|\n",
      "|           MS Dhoni|    12.0|\n",
      "|          Moeen Ali|     8.0|\n",
      "|    Ruturaj Gaikwad|     6.0|\n",
      "|       Rishabh Pant|    16.0|\n",
      "|         Axar Patel|     9.0|\n",
      "|       Prithvi Shaw|     7.5|\n",
      "|      Anrich Nortje|     6.5|\n",
      "|      Andre Russell|    12.0|\n",
      "|     Venkatesh Iyer|     8.0|\n",
      "|Varun Chakaravarthy|     8.0|\n",
      "|       Sunil Narine|     6.0|\n",
      "|     Mayank Agarwal|    12.0|\n",
      "|     Arshdeep Singh|     4.0|\n",
      "|       Rohit Sharma|    16.0|\n",
      "|     Jasprit Bumrah|    12.0|\n",
      "|   Suryakumar Yadav|     8.0|\n",
      "|     Kieron Pollard|     6.0|\n",
      "|        Virat Kohli|    15.0|\n",
      "|      Glenn Maxwell|    11.0|\n",
      "+-------------------+--------+\n",
      "only showing top 20 rows\n",
      "\n"
     ]
    }
   ],
   "source": [
    "5.List of Retained players with Salary?\n",
    "df3.select('player','cost_inr').where(df3.base_price=='Retained').show()"
   ]
  },
  {
   "cell_type": "code",
   "execution_count": 140,
   "id": "bb55076f",
   "metadata": {},
   "outputs": [
    {
     "name": "stdout",
     "output_type": "stream",
     "text": [
      "+-------------------+--------+\n",
      "|             player|cost_inr|\n",
      "+-------------------+--------+\n",
      "|    Ravindra Jadeja|    16.0|\n",
      "|           MS Dhoni|    12.0|\n",
      "|          Moeen Ali|     8.0|\n",
      "|    Ruturaj Gaikwad|     6.0|\n",
      "|       Rishabh Pant|    16.0|\n",
      "|         Axar Patel|     9.0|\n",
      "|       Prithvi Shaw|     7.5|\n",
      "|      Anrich Nortje|     6.5|\n",
      "|      Andre Russell|    12.0|\n",
      "|     Venkatesh Iyer|     8.0|\n",
      "|Varun Chakaravarthy|     8.0|\n",
      "|       Sunil Narine|     6.0|\n",
      "|     Mayank Agarwal|    12.0|\n",
      "|     Arshdeep Singh|     4.0|\n",
      "|       Rohit Sharma|    16.0|\n",
      "|     Jasprit Bumrah|    12.0|\n",
      "|   Suryakumar Yadav|     8.0|\n",
      "|     Kieron Pollard|     6.0|\n",
      "|        Virat Kohli|    15.0|\n",
      "|      Glenn Maxwell|    11.0|\n",
      "+-------------------+--------+\n",
      "only showing top 20 rows\n",
      "\n"
     ]
    }
   ],
   "source": [
    "spark.sql(\"\"\"select player, cost_inr from ipl where base_price = 'Retained' \"\"\").show()"
   ]
  },
  {
   "cell_type": "code",
   "execution_count": null,
   "id": "f07901c2",
   "metadata": {},
   "outputs": [],
   "source": []
  }
 ],
 "metadata": {
  "kernelspec": {
   "display_name": "Python 3 (ipykernel)",
   "language": "python",
   "name": "python3"
  },
  "language_info": {
   "codemirror_mode": {
    "name": "ipython",
    "version": 3
   },
   "file_extension": ".py",
   "mimetype": "text/x-python",
   "name": "python",
   "nbconvert_exporter": "python",
   "pygments_lexer": "ipython3",
   "version": "3.11.5"
  }
 },
 "nbformat": 4,
 "nbformat_minor": 5
}
